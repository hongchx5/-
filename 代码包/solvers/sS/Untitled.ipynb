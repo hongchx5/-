{
 "cells": [
  {
   "cell_type": "code",
   "execution_count": 22,
   "id": "8baa2fe7",
   "metadata": {},
   "outputs": [
    {
     "name": "stdout",
     "output_type": "stream",
     "text": [
      "good\n"
     ]
    }
   ],
   "source": [
    "import math\n",
    "import random\n",
    "import numpy as np\n",
    "from scipy.stats import poisson\n",
    "from scipy.stats import norm\n",
    "n = 7\n",
    "ch = 1\n",
    "cp = 10\n",
    "co = 320\n",
    "cr = 20\n",
    "max_inv_level = 250\n",
    "min_inv_level =180\n",
    "means=[-1]*n\n",
    "__opt_cost = []\n",
    "expected_cost = 0\n",
    "print('good')"
   ]
  },
  {
   "cell_type": "code",
   "execution_count": 23,
   "id": "46f6083e",
   "metadata": {},
   "outputs": [
    {
     "name": "stdout",
     "output_type": "stream",
     "text": [
      "good\n"
     ]
    }
   ],
   "source": [
    "for i in range(n):\n",
    "    means[i] = round(50 * (1 + math.sin(math.pi * i /6))) + min(i, n-i)\n",
    "init_inv = 0\n",
    "threshold = 0.0001\n",
    "print('good')"
   ]
  },
  {
   "cell_type": "code",
   "execution_count": 24,
   "id": "88ac346b",
   "metadata": {},
   "outputs": [
    {
     "name": "stdout",
     "output_type": "stream",
     "text": [
      "good\n"
     ]
    }
   ],
   "source": [
    "max_demand = int(poisson.ppf(loc = 0 , mu = max(means), q = (1-threshold)))\n",
    "prob = [[0.0 for _ in range(0, max_demand +1)] for _ in range(n)]\n",
    "for i in range(n):\n",
    "    for j in range(max_demand +1):\n",
    "        if means[i] != 0 :\n",
    "            prob[i][j] = poisson.pmf(k = j, mu = means[i])\n",
    "        else:\n",
    "            prob[i][j] = poisson.pmf(k = j, mu = 0.1)  # 这些都和上面的过程很像\n",
    "    prob[i] = prob[i]/sum(prob[i])\n",
    "\n",
    "\n",
    "demand = [0 for _ in range(n * max_demand + 1)]  # n个时期，最多可以累积n * max_demand的需求\n",
    "for i in range(max_demand + 1):\n",
    "    demand[i] = prob[0][i]\n",
    "for i in range(1, n):\n",
    "    temp = [0 for _ in range(n * max_demand + 1)]\n",
    "    for a in range((n - 1) * max_demand + 1):\n",
    "        for b in range(max_demand + 1):\n",
    "            temp[a + b] +=prob[i][b] * demand[a]  # 求出需求为a+b的概率\n",
    "    demand = temp\n",
    "j = n * max_demand\n",
    "pdf_dem = demand[j]\n",
    "while pdf_dem < threshold:  # 从后往前 将发生概率比较小的需求视为不可能事件\n",
    "    j -= 1\n",
    "    pdf_dem += demand[j - 1]\n",
    "\n",
    "max_inv_level = j # 将库存的最大最小值设为可能发生的需求量\n",
    "min_inv_level = -j + init_inv\n",
    "print('good')"
   ]
  },
  {
   "cell_type": "code",
   "execution_count": 25,
   "id": "cd77dc68",
   "metadata": {},
   "outputs": [
    {
     "name": "stdout",
     "output_type": "stream",
     "text": [
      "good\n"
     ]
    }
   ],
   "source": [
    "demand = [0 for _ in range(n * max_demand + 1)]  # n个时期，最多可以累积n * max_demand的需求\n",
    "for i in range(max_demand + 1):\n",
    "    demand[i] = prob[0][i]\n",
    "for i in range(1, n):\n",
    "    temp = [0 for _ in range(n * max_demand + 1)]\n",
    "    for a in range((n - 1) * max_demand + 1):\n",
    "        for b in range(max_demand + 1):\n",
    "            temp[a + b] += prob[i][b] * demand[a]  # 求出需求为a+b的概率\n",
    "    demand = temp\n",
    "j = n * max_demand\n",
    "pdf_dem = demand[j]\n",
    "while pdf_dem < threshold:  # 从后往前 将发生概率比较小的需求视为不可能事件\n",
    "    j -= 1\n",
    "    pdf_dem += demand[j - 1]\n",
    "    \n",
    "print('good')"
   ]
  },
  {
   "cell_type": "code",
   "execution_count": 26,
   "id": "f2766917",
   "metadata": {},
   "outputs": [
    {
     "name": "stdout",
     "output_type": "stream",
     "text": [
      "good\n"
     ]
    }
   ],
   "source": [
    "conv_prob = np.zeros((n, n, n * max_demand + 1))  # 创造三维数组\n",
    "\n",
    "for i in range(n):\n",
    "    for j in range(max_demand+1):\n",
    "        conv_prob[i][i][j] = prob[i][j]\n",
    "    # self.conv_prob[i][i] = self.conv_prob[i][i] / sum(self.conv_prob[i][i])\n",
    "\n",
    "for i in range(0, n):\n",
    "    for i2 in range(i+1, n):\n",
    "        for j in range((i2-i)*max_demand +1):\n",
    "            for j2 in range(max_demand+1):\n",
    "                conv_prob[i][i2][j+j2] += conv_prob[i][i2-1][j] * prob[i2][j2]\n",
    "        conv_prob[i][i2] = conv_prob[i][i2] / sum(conv_prob[i][i2])\n",
    "        \n",
    "print('good')"
   ]
  },
  {
   "cell_type": "code",
   "execution_count": 27,
   "id": "19a6ad95",
   "metadata": {},
   "outputs": [
    {
     "name": "stdout",
     "output_type": "stream",
     "text": [
      "good\n"
     ]
    }
   ],
   "source": [
    "__opt_cost = [[float(\"inf\") for _ in range(min_inv_level, max_inv_level + 1)] for _ in range(n + 1)]\n",
    "opt_q = [[max_inv_level for _ in range(min_inv_level, max_inv_level +1)] for _ in range(n+1)]\n",
    "opt_r = [[0 for _ in range(min_inv_level, max_inv_level +1)] for _ in range(n+1)]     \n",
    "\n",
    "for i in range(min_inv_level, max_inv_level +1):\n",
    "    __opt_cost[n][i] = 0\n",
    "    \n",
    "print('good')    "
   ]
  },
  {
   "cell_type": "code",
   "execution_count": 61,
   "id": "2a8d3e91",
   "metadata": {},
   "outputs": [
    {
     "name": "stdout",
     "output_type": "stream",
     "text": [
      "good\n"
     ]
    }
   ],
   "source": [
    "def cost(t, i, r):\n",
    "    if t>n-1:\n",
    "        return\n",
    "    if t+r-1>n-1:\n",
    "        return\n",
    "    if r=0:\n",
    "        return\n",
    "    temp = 0.0\n",
    "    for d, p in enumerate(conv_prob[t][t + r - 1]):\n",
    "        close_inv = i - d\n",
    "        if close_inv <= min_inv_level:\n",
    "            temp = temp + p * cost(t+r-1, min_inv_level, n-t-r)\n",
    "        else:\n",
    "            temp = temp + p * cost(t+r-1, close_inv, n-t-r)\n",
    "    for j in range(r):\n",
    "        for d, p in enumerate(conv_prob[t][t + j]):\n",
    "            close_inv = i - d\n",
    "            if close_inv >= 0:\n",
    "                temp = temp + p * ch * close_inv\n",
    "            if close_inv < 0:\n",
    "                temp = temp + p * (-cp) * close_inv\n",
    "    return temp    \n",
    "print('good')"
   ]
  },
  {
   "cell_type": "code",
   "execution_count": 56,
   "id": "fc17f049",
   "metadata": {},
   "outputs": [
    {
     "name": "stdout",
     "output_type": "stream",
     "text": [
      "0\n",
      "20\n"
     ]
    }
   ],
   "source": [
    "min_inv_level=0\n",
    "max_inv_level=20\n",
    "print(min_inv_level)\n",
    "print(max_inv_level)"
   ]
  },
  {
   "cell_type": "code",
   "execution_count": 62,
   "id": "34db661e",
   "metadata": {},
   "outputs": [
    {
     "ename": "TypeError",
     "evalue": "unsupported operand type(s) for +=: 'int' and 'NoneType'",
     "output_type": "error",
     "traceback": [
      "\u001b[1;31m---------------------------------------------------------------------------\u001b[0m",
      "\u001b[1;31mTypeError\u001b[0m                                 Traceback (most recent call last)",
      "Cell \u001b[1;32mIn[62], line 13\u001b[0m\n\u001b[0;32m     11\u001b[0m \u001b[38;5;28;01mfor\u001b[39;00m q \u001b[38;5;129;01min\u001b[39;00m \u001b[38;5;28mrange\u001b[39m(\u001b[38;5;241m0\u001b[39m, q_limit \u001b[38;5;241m+\u001b[39m \u001b[38;5;241m1\u001b[39m):\n\u001b[0;32m     12\u001b[0m     temp \u001b[38;5;241m=\u001b[39m cr \u001b[38;5;28;01mif\u001b[39;00m q \u001b[38;5;241m==\u001b[39m \u001b[38;5;241m0\u001b[39m \u001b[38;5;28;01melse\u001b[39;00m cr\u001b[38;5;241m+\u001b[39mco\n\u001b[1;32m---> 13\u001b[0m     \u001b[43mtemp\u001b[49m\u001b[43m \u001b[49m\u001b[38;5;241;43m+\u001b[39;49m\u001b[38;5;241;43m=\u001b[39;49m\u001b[43m \u001b[49m\u001b[43mcost\u001b[49m\u001b[43m(\u001b[49m\u001b[43mt\u001b[49m\u001b[43m,\u001b[49m\u001b[43mi\u001b[49m\u001b[38;5;241;43m+\u001b[39;49m\u001b[43mq\u001b[49m\u001b[43m,\u001b[49m\u001b[43mr\u001b[49m\u001b[43m)\u001b[49m\n\u001b[0;32m     14\u001b[0m     \u001b[38;5;28;01mif\u001b[39;00m temp \u001b[38;5;241m<\u001b[39m bsf_cost:\n\u001b[0;32m     15\u001b[0m         bsf_cost \u001b[38;5;241m=\u001b[39m temp\n",
      "\u001b[1;31mTypeError\u001b[0m: unsupported operand type(s) for +=: 'int' and 'NoneType'"
     ]
    }
   ],
   "source": [
    "t=0\n",
    "i=0\n",
    "bsf_cost = float(\"inf\")\n",
    "bsf_q = float(\"inf\")\n",
    "bsf_r = float(\"inf\")\n",
    "s = [float(\"inf\")] * n\n",
    "S = [float(\"inf\")] * n\n",
    "R = [0] * n\n",
    "q_limit = max_inv_level - i\n",
    "for r in range(1, n - t+1):\n",
    "    for q in range(0, q_limit + 1):\n",
    "        temp = cr if q == 0 else cr+co\n",
    "        temp += cost(t,i+q,r)\n",
    "        if temp < bsf_cost:\n",
    "            bsf_cost = temp\n",
    "            bsf_q = q\n",
    "            bsf_r = r\n",
    "t=t+bsf_r\n",
    "R[t-1]=1\n",
    "while t<n:\n",
    "    for i in range(0, max_inv_level + 1):\n",
    "        for r in range(1, n - t+1):\n",
    "            for q in range(0, q_limit + 1):\n",
    "                temp = cr if q == 0 else cr+co\n",
    "                temp += cost(t,i+q,r)\n",
    "                if temp < bsf_cost:\n",
    "                    bsf_cost = temp\n",
    "                    bsf_q = q\n",
    "                    bsf_r = r\n",
    "                    bsf_i = i\n",
    "        if i==max_inv_level:\n",
    "            break            \n",
    "    t=t+bsf_r\n",
    "    R[t-1]=1\n",
    "    s[t]=bsf_i\n",
    "    S[t]=bsf_i+bsf_q\n",
    "print('good')"
   ]
  },
  {
   "cell_type": "code",
   "execution_count": null,
   "id": "18d92d1a",
   "metadata": {},
   "outputs": [],
   "source": [
    "print(\"Reviews:\\t\" + str(R))\n",
    "print(\"s:\\t\\t\\t\" + str(s))\n",
    "print(\"S:\\t\\t\\t\" + str(S))"
   ]
  },
  {
   "cell_type": "code",
   "execution_count": null,
   "id": "77105f15",
   "metadata": {},
   "outputs": [],
   "source": []
  }
 ],
 "metadata": {
  "kernelspec": {
   "display_name": "Python 3 (ipykernel)",
   "language": "python311",
   "name": "python311"
  },
  "language_info": {
   "codemirror_mode": {
    "name": "ipython",
    "version": 3
   },
   "file_extension": ".py",
   "mimetype": "text/x-python",
   "name": "python",
   "nbconvert_exporter": "python",
   "pygments_lexer": "ipython3",
   "version": "3.11.4"
  }
 },
 "nbformat": 4,
 "nbformat_minor": 5
}
